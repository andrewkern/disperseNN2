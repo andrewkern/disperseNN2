{
  "nbformat": 4,
  "nbformat_minor": 0,
  "metadata": {
    "colab": {
      "provenance": [],
      "gpuType": "T4",
      "authorship_tag": "ABX9TyNoFj9WUL2TV4CxCKTGKI3T",
      "include_colab_link": true
    },
    "kernelspec": {
      "name": "python3",
      "display_name": "Python 3"
    },
    "language_info": {
      "name": "python"
    },
    "accelerator": "GPU"
  },
  "cells": [
    {
      "cell_type": "markdown",
      "metadata": {
        "id": "view-in-github",
        "colab_type": "text"
      },
      "source": [
        "<a href=\"https://colab.research.google.com/github/andrewkern/disperseNN2/blob/adk_doc/disperseNN2_vignette.ipynb\" target=\"_parent\"><img src=\"https://colab.research.google.com/assets/colab-badge.svg\" alt=\"Open In Colab\"/></a>"
      ]
    },
    {
      "cell_type": "markdown",
      "source": [
        "**Set up the environment**\n",
        "\n",
        "First we need to install disperseNN2 in the colab environment and clone the repo to get example data"
      ],
      "metadata": {
        "id": "UwW_uoEfpMu9"
      }
    },
    {
      "cell_type": "code",
      "execution_count": null,
      "metadata": {
        "id": "k1kf2-NKcTrO",
        "colab": {
          "base_uri": "https://localhost:8080/"
        },
        "outputId": "63a7f0f3-a518-461d-db36-f6e072220ccd"
      },
      "outputs": [
        {
          "output_type": "stream",
          "name": "stdout",
          "text": [
            "Collecting disperseNN2\n",
            "  Downloading dispersenn2-0.0.2-py3-none-any.whl (16 kB)\n",
            "Requirement already satisfied: attrs<24.0.0,>=23.1.0 in /usr/local/lib/python3.10/dist-packages (from disperseNN2) (23.1.0)\n",
            "Requirement already satisfied: geopy<3.0.0,>=2.3.0 in /usr/local/lib/python3.10/dist-packages (from disperseNN2) (2.3.0)\n",
            "Collecting gpustat<2.0,>=1.1 (from disperseNN2)\n",
            "  Downloading gpustat-1.1.tar.gz (97 kB)\n",
            "     ━━━━━━━━━━━━━━━━━━━━━━━━━━━━━━━━━━━━━━━━ 97.9/97.9 kB 2.8 MB/s eta 0:00:00\n",
            "  Installing build dependencies: started\n",
            "  Installing build dependencies: finished with status 'done'\n",
            "  Getting requirements to build wheel: started\n",
            "  Getting requirements to build wheel: finished with status 'done'\n",
            "  Preparing metadata (pyproject.toml): started\n",
            "  Preparing metadata (pyproject.toml): finished with status 'done'\n",
            "Collecting matplotlib<4.0.0,>=3.7.2 (from disperseNN2)\n",
            "  Downloading matplotlib-3.7.2-cp310-cp310-manylinux_2_17_x86_64.manylinux2014_x86_64.whl (11.6 MB)\n",
            "     ━━━━━━━━━━━━━━━━━━━━━━━━━━━━━━━━━━━━━━━━ 11.6/11.6 MB 30.4 MB/s eta 0:00:00\n",
            "Collecting msprime<2.0.0,>=1.2.0 (from disperseNN2)\n",
            "  Downloading msprime-1.2.0-cp310-cp310-manylinux_2_12_x86_64.manylinux2010_x86_64.whl (5.8 MB)\n",
            "     ━━━━━━━━━━━━━━━━━━━━━━━━━━━━━━━━━━━━━━━━ 5.8/5.8 MB 19.3 MB/s eta 0:00:00\n",
            "Collecting numpy<2.0.0,>=1.25.1 (from disperseNN2)\n",
            "  Downloading numpy-1.25.1-cp310-cp310-manylinux_2_17_x86_64.manylinux2014_x86_64.whl (17.6 MB)\n",
            "     ━━━━━━━━━━━━━━━━━━━━━━━━━━━━━━━━━━━━━━━━ 17.6/17.6 MB 82.9 MB/s eta 0:00:00\n",
            "Collecting scikit-learn<2.0.0,>=1.3.0 (from disperseNN2)\n",
            "  Downloading scikit_learn-1.3.0-cp310-cp310-manylinux_2_17_x86_64.manylinux2014_x86_64.whl (10.8 MB)\n",
            "     ━━━━━━━━━━━━━━━━━━━━━━━━━━━━━━━━━━━━━━━ 10.8/10.8 MB 118.6 MB/s eta 0:00:00\n",
            "Requirement already satisfied: tensorflow<3.0,>=2.11 in /usr/local/lib/python3.10/dist-packages (from disperseNN2) (2.12.0)\n",
            "Collecting tskit<0.6.0,>=0.5.5 (from disperseNN2)\n",
            "  Downloading tskit-0.5.5-cp310-cp310-manylinux_2_17_x86_64.manylinux2014_x86_64.whl (1.2 MB)\n",
            "     ━━━━━━━━━━━━━━━━━━━━━━━━━━━━━━━━━━━━━━━━ 1.2/1.2 MB 78.8 MB/s eta 0:00:00\n",
            "Collecting utm<0.8.0,>=0.7.0 (from disperseNN2)\n",
            "  Downloading utm-0.7.0.tar.gz (8.7 kB)\n",
            "  Preparing metadata (setup.py): started\n",
            "  Preparing metadata (setup.py): finished with status 'done'\n",
            "Requirement already satisfied: geographiclib<3,>=1.52 in /usr/local/lib/python3.10/dist-packages (from geopy<3.0.0,>=2.3.0->disperseNN2) (2.0)\n",
            "Collecting nvidia-ml-py>=11.450.129 (from gpustat<2.0,>=1.1->disperseNN2)\n",
            "  Downloading nvidia_ml_py-12.535.77-py3-none-any.whl (36 kB)\n",
            "Requirement already satisfied: psutil>=5.6.0 in /usr/local/lib/python3.10/dist-packages (from gpustat<2.0,>=1.1->disperseNN2) (5.9.5)\n",
            "Collecting blessed>=1.17.1 (from gpustat<2.0,>=1.1->disperseNN2)\n",
            "  Downloading blessed-1.20.0-py2.py3-none-any.whl (58 kB)\n",
            "     ━━━━━━━━━━━━━━━━━━━━━━━━━━━━━━━━━━━━━━━━ 58.4/58.4 kB 7.3 MB/s eta 0:00:00\n",
            "Requirement already satisfied: contourpy>=1.0.1 in /usr/local/lib/python3.10/dist-packages (from matplotlib<4.0.0,>=3.7.2->disperseNN2) (1.1.0)\n",
            "Requirement already satisfied: cycler>=0.10 in /usr/local/lib/python3.10/dist-packages (from matplotlib<4.0.0,>=3.7.2->disperseNN2) (0.11.0)\n",
            "Requirement already satisfied: fonttools>=4.22.0 in /usr/local/lib/python3.10/dist-packages (from matplotlib<4.0.0,>=3.7.2->disperseNN2) (4.41.1)\n",
            "Requirement already satisfied: kiwisolver>=1.0.1 in /usr/local/lib/python3.10/dist-packages (from matplotlib<4.0.0,>=3.7.2->disperseNN2) (1.4.4)\n",
            "Requirement already satisfied: packaging>=20.0 in /usr/local/lib/python3.10/dist-packages (from matplotlib<4.0.0,>=3.7.2->disperseNN2) (23.1)\n",
            "Requirement already satisfied: pillow>=6.2.0 in /usr/local/lib/python3.10/dist-packages (from matplotlib<4.0.0,>=3.7.2->disperseNN2) (9.4.0)\n",
            "Collecting pyparsing<3.1,>=2.3.1 (from matplotlib<4.0.0,>=3.7.2->disperseNN2)\n",
            "  Downloading pyparsing-3.0.9-py3-none-any.whl (98 kB)\n",
            "     ━━━━━━━━━━━━━━━━━━━━━━━━━━━━━━━━━━━━━━━━ 98.3/98.3 kB 13.4 MB/s eta 0:00:00\n",
            "Requirement already satisfied: python-dateutil>=2.7 in /usr/local/lib/python3.10/dist-packages (from matplotlib<4.0.0,>=3.7.2->disperseNN2) (2.8.2)\n",
            "Collecting newick>=1.3.0 (from msprime<2.0.0,>=1.2.0->disperseNN2)\n",
            "  Downloading newick-1.9.0-py2.py3-none-any.whl (15 kB)\n",
            "Collecting demes>=0.2 (from msprime<2.0.0,>=1.2.0->disperseNN2)\n",
            "  Downloading demes-0.2.3-py3-none-any.whl (40 kB)\n",
            "     ━━━━━━━━━━━━━━━━━━━━━━━━━━━━━━━━━━━━━━━━ 40.9/40.9 kB 4.8 MB/s eta 0:00:00\n",
            "Requirement already satisfied: scipy>=1.5.0 in /usr/local/lib/python3.10/dist-packages (from scikit-learn<2.0.0,>=1.3.0->disperseNN2) (1.10.1)\n",
            "Requirement already satisfied: joblib>=1.1.1 in /usr/local/lib/python3.10/dist-packages (from scikit-learn<2.0.0,>=1.3.0->disperseNN2) (1.3.1)\n",
            "Requirement already satisfied: threadpoolctl>=2.0.0 in /usr/local/lib/python3.10/dist-packages (from scikit-learn<2.0.0,>=1.3.0->disperseNN2) (3.2.0)\n",
            "Requirement already satisfied: absl-py>=1.0.0 in /usr/local/lib/python3.10/dist-packages (from tensorflow<3.0,>=2.11->disperseNN2) (1.4.0)\n",
            "Requirement already satisfied: astunparse>=1.6.0 in /usr/local/lib/python3.10/dist-packages (from tensorflow<3.0,>=2.11->disperseNN2) (1.6.3)\n",
            "Requirement already satisfied: flatbuffers>=2.0 in /usr/local/lib/python3.10/dist-packages (from tensorflow<3.0,>=2.11->disperseNN2) (23.5.26)\n",
            "Requirement already satisfied: gast<=0.4.0,>=0.2.1 in /usr/local/lib/python3.10/dist-packages (from tensorflow<3.0,>=2.11->disperseNN2) (0.4.0)\n",
            "Requirement already satisfied: google-pasta>=0.1.1 in /usr/local/lib/python3.10/dist-packages (from tensorflow<3.0,>=2.11->disperseNN2) (0.2.0)\n",
            "Requirement already satisfied: grpcio<2.0,>=1.24.3 in /usr/local/lib/python3.10/dist-packages (from tensorflow<3.0,>=2.11->disperseNN2) (1.56.2)\n",
            "Requirement already satisfied: h5py>=2.9.0 in /usr/local/lib/python3.10/dist-packages (from tensorflow<3.0,>=2.11->disperseNN2) (3.8.0)\n",
            "Requirement already satisfied: jax>=0.3.15 in /usr/local/lib/python3.10/dist-packages (from tensorflow<3.0,>=2.11->disperseNN2) (0.4.13)\n",
            "Requirement already satisfied: keras<2.13,>=2.12.0 in /usr/local/lib/python3.10/dist-packages (from tensorflow<3.0,>=2.11->disperseNN2) (2.12.0)\n",
            "Requirement already satisfied: libclang>=13.0.0 in /usr/local/lib/python3.10/dist-packages (from tensorflow<3.0,>=2.11->disperseNN2) (16.0.6)\n",
            "INFO: pip is looking at multiple versions of tensorflow to determine which version is compatible with other requirements. This could take a while.\n",
            "Collecting tensorflow<3.0,>=2.11 (from disperseNN2)\n",
            "  Downloading tensorflow-2.13.0-cp310-cp310-manylinux_2_17_x86_64.manylinux2014_x86_64.whl (524.1 MB)\n",
            "     ━━━━━━━━━━━━━━━━━━━━━━━━━━━━━━━━━━━━━━━ 524.1/524.1 MB 3.3 MB/s eta 0:00:00\n",
            "Collecting keras<2.14,>=2.13.1 (from tensorflow<3.0,>=2.11->disperseNN2)\n",
            "  Downloading keras-2.13.1-py3-none-any.whl (1.7 MB)\n",
            "     ━━━━━━━━━━━━━━━━━━━━━━━━━━━━━━━━━━━━━━━━ 1.7/1.7 MB 91.7 MB/s eta 0:00:00\n",
            "Collecting tensorflow<3.0,>=2.11 (from disperseNN2)\n",
            "  Downloading tensorflow-2.12.1-cp310-cp310-manylinux_2_17_x86_64.manylinux2014_x86_64.whl (585.9 MB)\n",
            "     ━━━━━━━━━━━━━━━━━━━━━━━━━━━━━━━━━━━━━━━ 585.9/585.9 MB 2.9 MB/s eta 0:00:00\n",
            "  Downloading tensorflow-2.11.1-cp310-cp310-manylinux_2_17_x86_64.manylinux2014_x86_64.whl (588.3 MB)\n",
            "     ━━━━━━━━━━━━━━━━━━━━━━━━━━━━━━━━━━━━━━━ 588.3/588.3 MB 2.7 MB/s eta 0:00:00\n",
            "Collecting keras<2.12,>=2.11.0 (from tensorflow<3.0,>=2.11->disperseNN2)\n",
            "  Downloading keras-2.11.0-py2.py3-none-any.whl (1.7 MB)\n",
            "     ━━━━━━━━━━━━━━━━━━━━━━━━━━━━━━━━━━━━━━━━ 1.7/1.7 MB 86.4 MB/s eta 0:00:00\n",
            "Requirement already satisfied: opt-einsum>=2.3.2 in /usr/local/lib/python3.10/dist-packages (from tensorflow<3.0,>=2.11->disperseNN2) (3.3.0)\n",
            "Collecting protobuf<3.20,>=3.9.2 (from tensorflow<3.0,>=2.11->disperseNN2)\n",
            "  Downloading protobuf-3.19.6-cp310-cp310-manylinux_2_17_x86_64.manylinux2014_x86_64.whl (1.1 MB)\n",
            "     ━━━━━━━━━━━━━━━━━━━━━━━━━━━━━━━━━━━━━━━━ 1.1/1.1 MB 69.1 MB/s eta 0:00:00\n",
            "Requirement already satisfied: setuptools in /usr/local/lib/python3.10/dist-packages (from tensorflow<3.0,>=2.11->disperseNN2) (67.7.2)\n",
            "Requirement already satisfied: six>=1.12.0 in /usr/local/lib/python3.10/dist-packages (from tensorflow<3.0,>=2.11->disperseNN2) (1.16.0)\n",
            "Collecting tensorboard<2.12,>=2.11 (from tensorflow<3.0,>=2.11->disperseNN2)\n",
            "  Downloading tensorboard-2.11.2-py3-none-any.whl (6.0 MB)\n",
            "     ━━━━━━━━━━━━━━━━━━━━━━━━━━━━━━━━━━━━━━━━ 6.0/6.0 MB 103.8 MB/s eta 0:00:00\n",
            "Collecting tensorflow-estimator<2.12,>=2.11.0 (from tensorflow<3.0,>=2.11->disperseNN2)\n",
            "  Downloading tensorflow_estimator-2.11.0-py2.py3-none-any.whl (439 kB)\n",
            "     ━━━━━━━━━━━━━━━━━━━━━━━━━━━━━━━━━━━━━━ 439.2/439.2 kB 42.8 MB/s eta 0:00:00\n",
            "Requirement already satisfied: termcolor>=1.1.0 in /usr/local/lib/python3.10/dist-packages (from tensorflow<3.0,>=2.11->disperseNN2) (2.3.0)\n",
            "Requirement already satisfied: typing-extensions>=3.6.6 in /usr/local/lib/python3.10/dist-packages (from tensorflow<3.0,>=2.11->disperseNN2) (4.7.1)\n",
            "Requirement already satisfied: wrapt>=1.11.0 in /usr/local/lib/python3.10/dist-packages (from tensorflow<3.0,>=2.11->disperseNN2) (1.14.1)\n",
            "Requirement already satisfied: tensorflow-io-gcs-filesystem>=0.23.1 in /usr/local/lib/python3.10/dist-packages (from tensorflow<3.0,>=2.11->disperseNN2) (0.32.0)\n",
            "Requirement already satisfied: jsonschema>=3.0.0 in /usr/local/lib/python3.10/dist-packages (from tskit<0.6.0,>=0.5.5->disperseNN2) (4.3.3)\n",
            "Collecting svgwrite>=1.1.10 (from tskit<0.6.0,>=0.5.5->disperseNN2)\n",
            "  Downloading svgwrite-1.4.3-py3-none-any.whl (67 kB)\n",
            "     ━━━━━━━━━━━━━━━━━━━━━━━━━━━━━━━━━━━━━━━━ 67.1/67.1 kB 9.0 MB/s eta 0:00:00\n",
            "Requirement already satisfied: wheel<1.0,>=0.23.0 in /usr/local/lib/python3.10/dist-packages (from astunparse>=1.6.0->tensorflow<3.0,>=2.11->disperseNN2) (0.41.0)\n",
            "Requirement already satisfied: wcwidth>=0.1.4 in /usr/local/lib/python3.10/dist-packages (from blessed>=1.17.1->gpustat<2.0,>=1.1->disperseNN2) (0.2.6)\n",
            "Collecting ruamel.yaml>=0.15.78 (from demes>=0.2->msprime<2.0.0,>=1.2.0->disperseNN2)\n",
            "  Downloading ruamel.yaml-0.17.32-py3-none-any.whl (112 kB)\n",
            "     ━━━━━━━━━━━━━━━━━━━━━━━━━━━━━━━━━━━━━━ 112.2/112.2 kB 13.6 MB/s eta 0:00:00\n",
            "Requirement already satisfied: pyrsistent!=0.17.0,!=0.17.1,!=0.17.2,>=0.14.0 in /usr/local/lib/python3.10/dist-packages (from jsonschema>=3.0.0->tskit<0.6.0,>=0.5.5->disperseNN2) (0.19.3)\n",
            "Requirement already satisfied: google-auth<3,>=1.6.3 in /usr/local/lib/python3.10/dist-packages (from tensorboard<2.12,>=2.11->tensorflow<3.0,>=2.11->disperseNN2) (2.17.3)\n",
            "Collecting google-auth-oauthlib<0.5,>=0.4.1 (from tensorboard<2.12,>=2.11->tensorflow<3.0,>=2.11->disperseNN2)\n",
            "  Downloading google_auth_oauthlib-0.4.6-py2.py3-none-any.whl (18 kB)\n",
            "Requirement already satisfied: markdown>=2.6.8 in /usr/local/lib/python3.10/dist-packages (from tensorboard<2.12,>=2.11->tensorflow<3.0,>=2.11->disperseNN2) (3.4.3)\n",
            "Requirement already satisfied: requests<3,>=2.21.0 in /usr/local/lib/python3.10/dist-packages (from tensorboard<2.12,>=2.11->tensorflow<3.0,>=2.11->disperseNN2) (2.27.1)\n",
            "Collecting tensorboard-data-server<0.7.0,>=0.6.0 (from tensorboard<2.12,>=2.11->tensorflow<3.0,>=2.11->disperseNN2)\n",
            "  Downloading tensorboard_data_server-0.6.1-py3-none-manylinux2010_x86_64.whl (4.9 MB)\n",
            "     ━━━━━━━━━━━━━━━━━━━━━━━━━━━━━━━━━━━━━━━━ 4.9/4.9 MB 66.5 MB/s eta 0:00:00\n",
            "Collecting tensorboard-plugin-wit>=1.6.0 (from tensorboard<2.12,>=2.11->tensorflow<3.0,>=2.11->disperseNN2)\n",
            "  Downloading tensorboard_plugin_wit-1.8.1-py3-none-any.whl (781 kB)\n",
            "     ━━━━━━━━━━━━━━━━━━━━━━━━━━━━━━━━━━━━━━ 781.3/781.3 kB 59.8 MB/s eta 0:00:00\n",
            "Requirement already satisfied: werkzeug>=1.0.1 in /usr/local/lib/python3.10/dist-packages (from tensorboard<2.12,>=2.11->tensorflow<3.0,>=2.11->disperseNN2) (2.3.6)\n",
            "Requirement already satisfied: cachetools<6.0,>=2.0.0 in /usr/local/lib/python3.10/dist-packages (from google-auth<3,>=1.6.3->tensorboard<2.12,>=2.11->tensorflow<3.0,>=2.11->disperseNN2) (5.3.1)\n",
            "Requirement already satisfied: pyasn1-modules>=0.2.1 in /usr/local/lib/python3.10/dist-packages (from google-auth<3,>=1.6.3->tensorboard<2.12,>=2.11->tensorflow<3.0,>=2.11->disperseNN2) (0.3.0)\n",
            "Requirement already satisfied: rsa<5,>=3.1.4 in /usr/local/lib/python3.10/dist-packages (from google-auth<3,>=1.6.3->tensorboard<2.12,>=2.11->tensorflow<3.0,>=2.11->disperseNN2) (4.9)\n",
            "Requirement already satisfied: requests-oauthlib>=0.7.0 in /usr/local/lib/python3.10/dist-packages (from google-auth-oauthlib<0.5,>=0.4.1->tensorboard<2.12,>=2.11->tensorflow<3.0,>=2.11->disperseNN2) (1.3.1)\n",
            "Requirement already satisfied: urllib3<1.27,>=1.21.1 in /usr/local/lib/python3.10/dist-packages (from requests<3,>=2.21.0->tensorboard<2.12,>=2.11->tensorflow<3.0,>=2.11->disperseNN2) (1.26.16)\n",
            "Requirement already satisfied: certifi>=2017.4.17 in /usr/local/lib/python3.10/dist-packages (from requests<3,>=2.21.0->tensorboard<2.12,>=2.11->tensorflow<3.0,>=2.11->disperseNN2) (2023.7.22)\n",
            "Requirement already satisfied: charset-normalizer~=2.0.0 in /usr/local/lib/python3.10/dist-packages (from requests<3,>=2.21.0->tensorboard<2.12,>=2.11->tensorflow<3.0,>=2.11->disperseNN2) (2.0.12)\n",
            "Requirement already satisfied: idna<4,>=2.5 in /usr/local/lib/python3.10/dist-packages (from requests<3,>=2.21.0->tensorboard<2.12,>=2.11->tensorflow<3.0,>=2.11->disperseNN2) (3.4)\n",
            "Collecting ruamel.yaml.clib>=0.2.7 (from ruamel.yaml>=0.15.78->demes>=0.2->msprime<2.0.0,>=1.2.0->disperseNN2)\n",
            "  Downloading ruamel.yaml.clib-0.2.7-cp310-cp310-manylinux_2_17_x86_64.manylinux2014_x86_64.manylinux_2_24_x86_64.whl (485 kB)\n",
            "     ━━━━━━━━━━━━━━━━━━━━━━━━━━━━━━━━━━━━━━ 485.6/485.6 kB 49.7 MB/s eta 0:00:00\n",
            "Requirement already satisfied: MarkupSafe>=2.1.1 in /usr/local/lib/python3.10/dist-packages (from werkzeug>=1.0.1->tensorboard<2.12,>=2.11->tensorflow<3.0,>=2.11->disperseNN2) (2.1.3)\n",
            "Requirement already satisfied: pyasn1<0.6.0,>=0.4.6 in /usr/local/lib/python3.10/dist-packages (from pyasn1-modules>=0.2.1->google-auth<3,>=1.6.3->tensorboard<2.12,>=2.11->tensorflow<3.0,>=2.11->disperseNN2) (0.5.0)\n",
            "Requirement already satisfied: oauthlib>=3.0.0 in /usr/local/lib/python3.10/dist-packages (from requests-oauthlib>=0.7.0->google-auth-oauthlib<0.5,>=0.4.1->tensorboard<2.12,>=2.11->tensorflow<3.0,>=2.11->disperseNN2) (3.2.2)\n",
            "Building wheels for collected packages: gpustat, utm\n",
            "  Building wheel for gpustat (pyproject.toml): started\n",
            "  Building wheel for gpustat (pyproject.toml): finished with status 'done'\n",
            "  Created wheel for gpustat: filename=gpustat-1.1-py3-none-any.whl size=26279 sha256=54e7343f1154364691ecafc883ce1dbe46c2adfe802c21be82d78b73521ad78b\n",
            "  Stored in directory: /root/.cache/pip/wheels/ee/d0/2c/1e02440645c2318ba03aea99993a44a9108dc8f74de0bd370b\n",
            "  Building wheel for utm (setup.py): started\n",
            "  Building wheel for utm (setup.py): finished with status 'done'\n",
            "  Created wheel for utm: filename=utm-0.7.0-py3-none-any.whl size=6085 sha256=e0cee908dd2f0e85b1844eefba360d78479bea5b0d38a7ca9d11fff1d690c0dc\n",
            "  Stored in directory: /root/.cache/pip/wheels/2f/a1/c8/543df0e8f5e824c3e92a432e32deb9cd89ae686095ee8cfcbe\n",
            "Successfully built gpustat utm\n",
            "Installing collected packages: utm, tensorboard-plugin-wit, nvidia-ml-py, tensorflow-estimator, tensorboard-data-server, svgwrite, ruamel.yaml.clib, pyparsing, protobuf, numpy, newick, keras, blessed, tskit, ruamel.yaml, gpustat, scikit-learn, matplotlib, google-auth-oauthlib, demes, tensorboard, msprime, tensorflow, disperseNN2\n",
            "  Attempting uninstall: tensorflow-estimator\n",
            "    Found existing installation: tensorflow-estimator 2.12.0\n",
            "    Uninstalling tensorflow-estimator-2.12.0:\n",
            "      Successfully uninstalled tensorflow-estimator-2.12.0\n",
            "  Attempting uninstall: tensorboard-data-server\n",
            "    Found existing installation: tensorboard-data-server 0.7.1\n",
            "    Uninstalling tensorboard-data-server-0.7.1:\n",
            "      Successfully uninstalled tensorboard-data-server-0.7.1\n",
            "  Attempting uninstall: pyparsing\n",
            "    Found existing installation: pyparsing 3.1.0\n",
            "    Uninstalling pyparsing-3.1.0:\n",
            "      Successfully uninstalled pyparsing-3.1.0\n",
            "  Attempting uninstall: protobuf\n",
            "    Found existing installation: protobuf 3.20.3\n",
            "    Uninstalling protobuf-3.20.3:\n",
            "      Successfully uninstalled protobuf-3.20.3\n",
            "  Attempting uninstall: numpy\n",
            "    Found existing installation: numpy 1.22.4\n",
            "    Uninstalling numpy-1.22.4:\n",
            "      Successfully uninstalled numpy-1.22.4\n",
            "  Attempting uninstall: keras\n",
            "    Found existing installation: keras 2.12.0\n",
            "    Uninstalling keras-2.12.0:\n",
            "      Successfully uninstalled keras-2.12.0\n",
            "  Attempting uninstall: scikit-learn\n",
            "    Found existing installation: scikit-learn 1.2.2\n",
            "    Uninstalling scikit-learn-1.2.2:\n",
            "      Successfully uninstalled scikit-learn-1.2.2\n",
            "  Attempting uninstall: matplotlib\n",
            "    Found existing installation: matplotlib 3.7.1\n",
            "    Uninstalling matplotlib-3.7.1:\n",
            "      Successfully uninstalled matplotlib-3.7.1\n",
            "  Attempting uninstall: google-auth-oauthlib\n",
            "    Found existing installation: google-auth-oauthlib 1.0.0\n",
            "    Uninstalling google-auth-oauthlib-1.0.0:\n",
            "      Successfully uninstalled google-auth-oauthlib-1.0.0\n",
            "  Attempting uninstall: tensorboard\n",
            "    Found existing installation: tensorboard 2.12.3\n",
            "    Uninstalling tensorboard-2.12.3:\n",
            "      Successfully uninstalled tensorboard-2.12.3\n",
            "  Attempting uninstall: tensorflow\n",
            "    Found existing installation: tensorflow 2.12.0\n",
            "    Uninstalling tensorflow-2.12.0:\n",
            "      Successfully uninstalled tensorflow-2.12.0\n",
            "Successfully installed blessed-1.20.0 demes-0.2.3 disperseNN2-0.0.2 google-auth-oauthlib-0.4.6 gpustat-1.1 keras-2.11.0 matplotlib-3.7.2 msprime-1.2.0 newick-1.9.0 numpy-1.25.1 nvidia-ml-py-12.535.77 protobuf-3.19.6 pyparsing-3.0.9 ruamel.yaml-0.17.32 ruamel.yaml.clib-0.2.7 scikit-learn-1.3.0 svgwrite-1.4.3 tensorboard-2.11.2 tensorboard-data-server-0.6.1 tensorboard-plugin-wit-1.8.1 tensorflow-2.11.1 tensorflow-estimator-2.11.0 tskit-0.5.5 utm-0.7.0\n"
          ]
        },
        {
          "output_type": "stream",
          "name": "stderr",
          "text": [
            "ERROR: pip's dependency resolver does not currently take into account all the packages that are installed. This behaviour is the source of the following dependency conflicts.\n",
            "numba 0.56.4 requires numpy<1.24,>=1.18, but you have numpy 1.25.1 which is incompatible.\n",
            "tensorflow-datasets 4.9.2 requires protobuf>=3.20, but you have protobuf 3.19.6 which is incompatible.\n",
            "tensorflow-metadata 1.13.1 requires protobuf<5,>=3.20.3, but you have protobuf 3.19.6 which is incompatible.\n",
            "Cloning into 'disperseNN2'...\n"
          ]
        }
      ],
      "source": [
        "%%bash\n",
        "# install\n",
        "pip install disperseNN2\n",
        "# get example data\n",
        "git clone https://github.com/chriscrsmith/disperseNN2.git\n"
      ]
    },
    {
      "cell_type": "markdown",
      "source": [
        "**Grab preprocessed data**\n",
        "\n",
        "To speed this example we have created a tarball that already contains simulations for training that have been preprocessed"
      ],
      "metadata": {
        "id": "TQONCV7LfWs0"
      }
    },
    {
      "cell_type": "code",
      "source": [
        "%%bash -t\n",
        "mkdir -p vignette\n",
        "cat disperseNN2/Examples/VCFs/iraptus_meta_full.txt | grep \"Scotian Shelf - East\" | sed s/\"\\t\"/,/g > vignette/iraptus.csv\n",
        "count=$(cat disperseNN2/Examples/VCFs/iraptus.vcf | grep -v \"##\" | grep \"#\" | wc -w)\n",
        "for i in $(seq 10 $count); do \\\n",
        "             id=$(cat disperseNN2/Examples/VCFs/iraptus.vcf | grep -v \"##\" | grep \"#\" | cut -f $i); \\\n",
        "             grep -w $id vignette/iraptus.csv; \\\n",
        "done | cut -d \",\" -f 4,5 | sed s/\",\"/\"\\t\"/g > vignette/iraptus.locs"
      ],
      "metadata": {
        "id": "qW9co-mbdWEq"
      },
      "execution_count": null,
      "outputs": []
    },
    {
      "cell_type": "code",
      "source": [
        "%%bash\n",
        "wget http://sesame.uoregon.edu/~adkern/vignette.tar.gz .\n",
        "tar zxvf vignette.tar.gz"
      ],
      "metadata": {
        "id": "DK2Luj82dxvj"
      },
      "execution_count": null,
      "outputs": []
    },
    {
      "cell_type": "code",
      "source": [
        "%%bash\n",
        "disperseNN2 \\\n",
        "             --out vignette/output_dir \\\n",
        "             --seed 12345 \\\n",
        "             --train \\\n",
        "             --max_epochs 100 \\\n",
        "             --validation_split 0.2 \\\n",
        "             --batch_size 10 \\\n",
        "             --learning_rate 1e-4 \\\n",
        "             --pairs 1000 \\\n",
        "             --pairs_encode 100 \\\n",
        "             --gpu any \\\n",
        "             > vignette/output_dir/training_history_12345.txt"
      ],
      "metadata": {
        "id": "ywY77fIheFqw"
      },
      "execution_count": null,
      "outputs": []
    },
    {
      "cell_type": "code",
      "source": [],
      "metadata": {
        "id": "zxov4zYt7JKJ"
      },
      "execution_count": null,
      "outputs": []
    },
    {
      "cell_type": "code",
      "source": [
        "!ls"
      ],
      "metadata": {
        "id": "HOY0m5Pm_RLh"
      },
      "execution_count": null,
      "outputs": []
    },
    {
      "cell_type": "code",
      "source": [],
      "metadata": {
        "id": "JtXGoVojWRGW"
      },
      "execution_count": null,
      "outputs": []
    }
  ]
}