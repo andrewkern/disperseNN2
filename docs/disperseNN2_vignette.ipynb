{
  "nbformat": 4,
  "nbformat_minor": 0,
  "metadata": {
    "colab": {
      "provenance": [],
      "gpuType": "T4",
      "authorship_tag": "ABX9TyM1LscR9LrlyI73jsqi8eAf",
      "include_colab_link": true
    },
    "kernelspec": {
      "name": "python3",
      "display_name": "Python 3"
    },
    "language_info": {
      "name": "python"
    },
    "accelerator": "GPU"
  },
  "cells": [
    {
      "cell_type": "markdown",
      "metadata": {
        "id": "view-in-github",
        "colab_type": "text"
      },
      "source": [
        "<a href=\"https://colab.research.google.com/github/andrewkern/disperseNN2/blob/adk_doc/docs/disperseNN2_vignette.ipynb\" target=\"_parent\"><img src=\"https://colab.research.google.com/assets/colab-badge.svg\" alt=\"Open In Colab\"/></a>"
      ]
    },
    {
      "cell_type": "markdown",
      "source": [
        "**Set up the environment**\n",
        "\n",
        "First we need to install disperseNN2 in the colab environment and clone the repo to get example data"
      ],
      "metadata": {
        "id": "UwW_uoEfpMu9"
      }
    },
    {
      "cell_type": "code",
      "execution_count": null,
      "metadata": {
        "id": "k1kf2-NKcTrO"
      },
      "outputs": [],
      "source": [
        "%%bash\n",
        "# install\n",
        "pip install disperseNN2\n",
        "# get example data\n",
        "git clone https://github.com/chriscrsmith/disperseNN2.git\n",
        "\n",
        "apt-get install poppler-utils\n",
        "pip install pdf2image"
      ]
    },
    {
      "cell_type": "markdown",
      "source": [
        "**Grab preprocessed data**\n",
        "\n",
        "To speed this example we have created a tarball that already contains simulations for training that have been preprocessed"
      ],
      "metadata": {
        "id": "TQONCV7LfWs0"
      }
    },
    {
      "cell_type": "code",
      "source": [
        "%%bash\n",
        "wget http://sesame.uoregon.edu/~adkern/vignette.tar.gz .\n",
        "tar zxf vignette.tar.gz"
      ],
      "metadata": {
        "id": "DK2Luj82dxvj"
      },
      "execution_count": null,
      "outputs": []
    },
    {
      "cell_type": "code",
      "source": [
        "%%bash -t\n",
        "#mkdir -p vignette\n",
        "cat disperseNN2/Examples/VCFs/iraptus_meta_full.txt | grep \"Scotian Shelf - East\" | sed s/\"\\t\"/,/g > vignette/iraptus.csv\n",
        "count=$(cat disperseNN2/Examples/VCFs/iraptus.vcf | grep -v \"##\" | grep \"#\" | wc -w)\n",
        "for i in $(seq 10 $count); do \\\n",
        "             id=$(cat disperseNN2/Examples/VCFs/iraptus.vcf | grep -v \"##\" | grep \"#\" | cut -f $i); \\\n",
        "             grep -w $id vignette/iraptus.csv; \\\n",
        "done | cut -d \",\" -f 4,5 | sed s/\",\"/\"\\t\"/g > vignette/iraptus.locs"
      ],
      "metadata": {
        "id": "qW9co-mbdWEq"
      },
      "execution_count": 3,
      "outputs": []
    },
    {
      "cell_type": "code",
      "source": [
        "%%bash\n",
        "disperseNN2 \\\n",
        "             --out vignette/output_dir \\\n",
        "             --seed 12345 \\\n",
        "             --train \\\n",
        "             --max_epochs 100 \\\n",
        "             --validation_split 0.2 \\\n",
        "             --batch_size 10 \\\n",
        "             --learning_rate 1e-4 \\\n",
        "             --pairs 1000 \\\n",
        "             --pairs_encode 100 \\\n",
        "             --gpu any \\\n",
        "             > vignette/output_dir/training_history_12345.txt"
      ],
      "metadata": {
        "id": "ywY77fIheFqw",
        "colab": {
          "base_uri": "https://localhost:8080/"
        },
        "outputId": "759444d5-d9ec-4487-a28e-1fdc7308a004"
      },
      "execution_count": 4,
      "outputs": [
        {
          "output_type": "stream",
          "name": "stderr",
          "text": [
            "2023-07-27 04:52:05.787497: I tensorflow/core/platform/cpu_feature_guard.cc:193] This TensorFlow binary is optimized with oneAPI Deep Neural Network Library (oneDNN) to use the following CPU instructions in performance-critical operations:  AVX2 AVX512F FMA\n",
            "To enable them in other operations, rebuild TensorFlow with the appropriate compiler flags.\n",
            "2023-07-27 04:52:09.029174: W tensorflow/compiler/xla/stream_executor/platform/default/dso_loader.cc:64] Could not load dynamic library 'libnvinfer.so.7'; dlerror: libnvinfer.so.7: cannot open shared object file: No such file or directory; LD_LIBRARY_PATH: /usr/lib64-nvidia\n",
            "2023-07-27 04:52:09.030139: W tensorflow/compiler/xla/stream_executor/platform/default/dso_loader.cc:64] Could not load dynamic library 'libnvinfer_plugin.so.7'; dlerror: libnvinfer_plugin.so.7: cannot open shared object file: No such file or directory; LD_LIBRARY_PATH: /usr/lib64-nvidia\n",
            "2023-07-27 04:52:09.030200: W tensorflow/compiler/tf2tensorrt/utils/py_utils.cc:38] TF-TRT Warning: Cannot dlopen some TensorRT libraries. If you would like to use Nvidia GPU with TensorRT, please make sure the missing libraries mentioned above are installed properly.\n",
            "2023-07-27 04:52:15.488934: W tensorflow/core/common_runtime/gpu/gpu_bfc_allocator.cc:42] Overriding orig_value setting because the TF_FORCE_GPU_ALLOW_GROWTH environment variable is set. Original config value was 0.\n",
            "WARNING:tensorflow:`period` argument is deprecated. Please use `save_freq` to specify the frequency in number of batches seen.\n"
          ]
        }
      ]
    },
    {
      "cell_type": "markdown",
      "source": [
        "Okay training is done! Let's plot the training history and then display it here in the notebook"
      ],
      "metadata": {
        "id": "0iLkdZ164JzD"
      }
    },
    {
      "cell_type": "code",
      "source": [
        "!disperseNN2 --plot_history vignette/output_dir/training_history_12345.txt"
      ],
      "metadata": {
        "id": "0ek6BDz4yJNZ"
      },
      "execution_count": 6,
      "outputs": []
    },
    {
      "cell_type": "code",
      "source": [
        "\n",
        "\n",
        "from pdf2image import convert_from_path\n",
        "from IPython.display import display, Image\n",
        "images = convert_from_path(\"vignette/output_dir/training_history_12345.txt_plot.pdf\")\n",
        "for i, image in enumerate(images):\n",
        "    fname = \"image\" + str(i) + \".png\"\n",
        "    image.save(fname, \"PNG\")\n",
        "Image(fname)"
      ],
      "metadata": {
        "id": "JtXGoVojWRGW",
        "colab": {
          "base_uri": "https://localhost:8080/",
          "height": 517
        },
        "outputId": "bc6c9f93-31c4-4a1c-b603-ec596685d651"
      },
      "execution_count": 13,
      "outputs": [
        {
          "output_type": "stream",
          "name": "stdout",
          "text": [
            "Reading package lists... Done\n",
            "Building dependency tree... Done\n",
            "Reading state information... Done\n",
            "poppler-utils is already the newest version (22.02.0-2ubuntu0.1).\n",
            "0 upgraded, 0 newly installed, 0 to remove and 8 not upgraded.\n"
          ]
        },
        {
          "output_type": "execute_result",
          "data": {
            "image/png": "[encoded data removed]",
            "text/plain": [
              "<IPython.core.display.Image object>"
            ]
          },
          "metadata": {},
          "execution_count": 13
        }
      ]
    },
    {
      "cell_type": "markdown",
      "source": [],
      "metadata": {
        "id": "wR1OXX6-2GDf"
      }
    },
    {
      "cell_type": "code",
      "source": [],
      "metadata": {
        "id": "tOMi5kQh2_TU"
      },
      "execution_count": null,
      "outputs": []
    }
  ]
}